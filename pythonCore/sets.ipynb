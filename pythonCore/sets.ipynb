{
 "cells": [
  {
   "attachments": {},
   "cell_type": "markdown",
   "metadata": {},
   "source": [
    "# Sets\n",
    "\n",
    "--------------------\n"
   ]
  },
  {
   "attachments": {},
   "cell_type": "markdown",
   "metadata": {},
   "source": [
    "##### (0) Eliminar duplicados\n",
    "\n",
    "Tienes una lista con nombres de clientes y quieres la *lista de nombres únicos*. Usa un `set`. Crea la función `get_unique`, que recibe una lista con elementos duplicados y devuelve una lista con los elementos únicos. No tiene que respetar el orden."
   ]
  },
  {
   "cell_type": "code",
   "execution_count": 8,
   "metadata": {},
   "outputs": [
    {
     "name": "stdout",
     "output_type": "stream",
     "text": [
      "{'Anakin', 'Juan', 'Carlos', 'Ana', 'Pedro'}\n"
     ]
    }
   ],
   "source": [
    "l = [\"Pedro\", \"Ana\", \"Juan\", \"Carlos\", \"Anakin\",\"Ana\",\"Juan\",\"Pedro\",\"Pedro\"]\n",
    "\n",
    "def get_unique(l):\n",
    " s = set(l)\n",
    " return s\n",
    "\n",
    "print(get_unique(l))"
   ]
  },
  {
   "attachments": {},
   "cell_type": "markdown",
   "metadata": {},
   "source": [
    "##### (1) Extraer palabras únicas\n",
    "\n",
    "Dada una cadena de texto, extrae todas las palabras únicas en esa cadena. Usa el método `split` en la cadena"
   ]
  },
  {
   "cell_type": "code",
   "execution_count": 2,
   "metadata": {},
   "outputs": [
    {
     "data": {
      "text/plain": [
       "['uno', 'uno', 'dos', 'dos', 'tres', 'tres', 'tres']"
      ]
     },
     "execution_count": 2,
     "metadata": {},
     "output_type": "execute_result"
    }
   ],
   "source": [
    "texto = \"uno uno dos dos tres tres tres\"\n",
    "t= texto.split()\n",
    "t"
   ]
  },
  {
   "attachments": {},
   "cell_type": "markdown",
   "metadata": {},
   "source": [
    "##### (2) Elementos en común\n",
    "\n",
    "Dadas dos listas, verifica si comparten algún elemento en común. Para ello, crea la función `have_common_elements(list1:list, list2:list)->bool`.\n",
    "Para hacerlo, hay dos formas de implementarlo, una requiere usar alguno de los métodos de `set` y otra recorriendo una de las dos secuencias. Usa la que más rabia te dé."
   ]
  },
  {
   "cell_type": "code",
   "execution_count": null,
   "metadata": {},
   "outputs": [
    {
     "data": {
      "text/plain": [
       "True"
      ]
     },
     "execution_count": 16,
     "metadata": {},
     "output_type": "execute_result"
    }
   ],
   "source": [
    "lista1 = [\"Pedro\", \"Ana\", \"Juan\", \"Carlos\", \"Anakin\"]\n",
    "lista2 = [\"Sofía\", \"Laura\", \"Anakin\", \"Carlos\", \"Antonio\"]\n",
    "\n",
    "def have_common_elements(list1:list, list2:list)->bool:\n",
    "    list1= set(list1)\n",
    "    list2= set(list2)\n",
    "    if list1.intersection(list2) == list2.intersection(list1):\n",
    "     return True\n",
    "    else:\n",
    "     return False\n",
    "       \n",
    "\n",
    "have_common_elements(lista1,lista2)"
   ]
  },
  {
   "cell_type": "markdown",
   "metadata": {},
   "source": [
    "##### (2 b) Elementos en común\n",
    "\n",
    "Has creado un *predicado* que devuelve un `bool` indicando que si hay o no elementos en común. Sin embargo, ¿qué pasa si además de eso también quiero saber **cuántos** son y **qué elementos** son esos?\n",
    "\n",
    "Una opción sería crear otra función `common_elements(list1: list, list2: list)->set` que devuelve los elementos comunes dentro de un set o un set vacío en caso de no tener ninguno.\n",
    "\n",
    "Crea esa función."
   ]
  },
  {
   "cell_type": "code",
   "execution_count": 18,
   "metadata": {},
   "outputs": [
    {
     "name": "stdout",
     "output_type": "stream",
     "text": [
      "{'Anakin', 'Carlos'}\n"
     ]
    }
   ],
   "source": [
    "lista1 = [\"Pedro\", \"Ana\", \"Juan\", \"Carlos\", \"Anakin\"]\n",
    "lista2 = [\"Sofía\", \"Laura\", \"Anakin\", \"Carlos\", \"Antonio\"]\n",
    "\n",
    "def common_elements(list1:list, list2:list)->set:\n",
    "    list1= set(list1)\n",
    "    list2= set(list2)\n",
    "       \n",
    "    return print(list1.intersection(list2))\n",
    "\n",
    "common_elements(lista1,lista2)"
   ]
  },
  {
   "cell_type": "markdown",
   "metadata": {},
   "source": [
    "##### (2 c) Elementos en común\n",
    "\n",
    "En el fondo, la segunda función nos dá la misma información que la primera, y **algo más**. Lo ideal sería poder prescindir de la primera y poder usar la segunda en todos los casos:\n",
    "\n",
    "* cuando sólo quiero saber si hay o no elementos en común\n",
    "* cuando quiero saber cuantos hay en común \n",
    "* cuando quiero saber cuales son los elementos en común\n",
    "\n",
    "Para ello prueba a evaluar este código:\n",
    "\n",
    "```python\n",
    "if common_elements([1,2,3], ['e', 42, 1]):\n",
    "    print('Tiene elementos en común')\n",
    "else:\n",
    "    print('No tienen elmentos en común')\n",
    "```\n",
    "\n",
    "* ¿Qué ocurre?\n",
    "* ¿Es lo que te esperabas?\n",
    "* ¿Qué crees que está pasando?\n",
    "\n"
   ]
  },
  {
   "cell_type": "code",
   "execution_count": 19,
   "metadata": {},
   "outputs": [
    {
     "name": "stdout",
     "output_type": "stream",
     "text": [
      "{1}\n",
      "No tienen elmentos en común\n"
     ]
    }
   ],
   "source": [
    "if common_elements([1,2,3], ['e', 42, 1]):\n",
    "    print('Tiene elementos en común')\n",
    "else:\n",
    "    print('No tienen elmentos en común')"
   ]
  },
  {
   "attachments": {},
   "cell_type": "markdown",
   "metadata": {},
   "source": [
    "##### (4) Letras Únicas\n",
    "\n",
    "Crea la función que recibe una cadena, por ejemplo \"Supercalifragilisticoespialidoso\" y devuelve una lista con las letras únicas.\n",
    "\n",
    "Recuerda que una cadena es una secuencia (al igual que la lista). Quizás se puede convertir en un set.\n",
    "\n",
    "1. Prueba con \"Supercalifragilisticoespialidoso\". ¿Te has llevado alguna sorpresa?\n",
    "2. ¿Cómo lo arreglarías? ¿Recuerdas la normalización?"
   ]
  },
  {
   "cell_type": "code",
   "execution_count": 33,
   "metadata": {},
   "outputs": [
    {
     "name": "stdout",
     "output_type": "stream",
     "text": [
      "['S', 'u', 'p', 'e', 'r', 'c', 'a', 'l', 'i', 'f', 'g', 's', 't', 'o', 'd']\n"
     ]
    }
   ],
   "source": [
    "def unico(palabra:str)->list:\n",
    "    letras_unicas= []\n",
    "    for letra in palabra:\n",
    "        if letra not in letras_unicas:\n",
    "           letras_unicas.append(letra)\n",
    "    return letras_unicas\n",
    "\n",
    "\n",
    "print(unico(\"Supercalifragilisticoespialidoso\"))"
   ]
  },
  {
   "attachments": {},
   "cell_type": "markdown",
   "metadata": {},
   "source": [
    "##### (5) Los suspensos\n",
    "\n",
    "Dado un conjunto de estudiantes que aprobaron el examen de P101 y un conjunto de estudiantes que examinaron, identifica a los estudiantes que suspendieron.\n"
   ]
  },
  {
   "cell_type": "code",
   "execution_count": 6,
   "metadata": {},
   "outputs": [
    {
     "name": "stdout",
     "output_type": "stream",
     "text": [
      "{'Luis', 'Carlos'}\n"
     ]
    }
   ],
   "source": [
    "aprobaron = {\"Pedro\", \"Ana\", \"Juan\"}\n",
    "tomaron_examen = {\"Pedro\", \"Ana\", \"Juan\", \"Carlos\", \"Luis\"}\n",
    "\n",
    "suspensos = aprobaron.symmetric_difference(tomaron_examen)\n",
    "print(suspensos)"
   ]
  },
  {
   "attachments": {},
   "cell_type": "markdown",
   "metadata": {},
   "source": [
    "##### (6) ¿Contiene vocales?\n",
    "\n",
    "Crea la función `contains_vowels(word:str)->bool` que recibe un texto y devuelve si contiene o no alguna vocal.\n",
    "\n",
    "Usa un `set` para representar las vocales."
   ]
  },
  {
   "cell_type": "code",
   "execution_count": 11,
   "metadata": {},
   "outputs": [
    {
     "name": "stdout",
     "output_type": "stream",
     "text": [
      "True\n"
     ]
    }
   ],
   "source": [
    "def contains_vowels(word:str)->bool:\n",
    "    vocal={\"a\",\"e\",\"i\",\"o\",\"u\"} #no se consideran las mayusculas\n",
    "    for letra in word:\n",
    "     if letra in vocal:\n",
    "        return True\n",
    "     else:\n",
    "         return False\n",
    " \n",
    "print(contains_vowels(\"orionis\"))    \n",
    "    "
   ]
  }
 ],
 "metadata": {
  "kernelspec": {
   "display_name": "Python 3",
   "language": "python",
   "name": "python3"
  },
  "language_info": {
   "codemirror_mode": {
    "name": "ipython",
    "version": 3
   },
   "file_extension": ".py",
   "mimetype": "text/x-python",
   "name": "python",
   "nbconvert_exporter": "python",
   "pygments_lexer": "ipython3",
   "version": "3.13.0"
  },
  "orig_nbformat": 4
 },
 "nbformat": 4,
 "nbformat_minor": 2
}
